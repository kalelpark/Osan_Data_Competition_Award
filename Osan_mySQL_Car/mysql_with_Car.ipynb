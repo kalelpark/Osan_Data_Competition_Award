{
  "nbformat": 4,
  "nbformat_minor": 0,
  "metadata": {
    "colab": {
      "name": "mysql_with_Car.ipynb",
      "provenance": [],
      "collapsed_sections": []
    },
    "kernelspec": {
      "name": "python3",
      "display_name": "Python 3"
    },
    "language_info": {
      "name": "python"
    }
  },
  "cells": [
    {
      "cell_type": "markdown",
      "metadata": {
        "id": "XhYB6ijf51-U"
      },
      "source": [
        "# 차량이 들어온 경우"
      ]
    },
    {
      "cell_type": "code",
      "metadata": {
        "id": "9nuxvUxgruXu"
      },
      "source": [
        "def car_in(car_table):\n",
        "  db = pymysql(host = 'localhost', port = 3396, user = 'root', password = 'a12b34c56D78!', db = 'parking', charset= 'urf8')\n",
        "  cursor = db.cursor()\n",
        "  sql = \"\"\" insert into car_num values('\"\"\" + car_table[car_num] + \"\"\"',\n",
        "      '\"\"\" + car_table['car_model']  +  \"\"\",\n",
        "      \"\"\" + car_table['start_time'] + \"\"\")\n",
        "      \"\"\"\n",
        "  cursor.execute(sql)\n",
        "  db.commit(sql)\n",
        "  db.close()\n",
        "\n",
        "  print(\"{0} 의 차량이 주차가 등록되었습니다.\".formet(car_table[car_num]))"
      ],
      "execution_count": 4,
      "outputs": []
    },
    {
      "cell_type": "markdown",
      "metadata": {
        "id": "9cmyA8R96JxM"
      },
      "source": [
        "# 차량이 나가는 경우"
      ]
    },
    {
      "cell_type": "code",
      "metadata": {
        "id": "9bwx6TT1rvdA"
      },
      "source": [
        "def car_out(car_table):\n",
        "  db = pymysql.connect(host = 'localhost', port = 3306, user = 'root', password = 'a12b34c56D78!', db = 'parking', charset = 'utf8')\n",
        "  cursor = db.cursor()\n",
        "  sql = \"\"\"delete from car_num where car_num = \"\"\" + car_table['car_num']\n",
        "  cursor.execute(sql)\n",
        "  db.commit(sql)\n",
        "  db.close()\n",
        "  print(\"{0} 의 차량이 나갑니다.\".formet(car_table[car_num]))"
      ],
      "execution_count": 5,
      "outputs": []
    },
    {
      "cell_type": "markdown",
      "metadata": {
        "id": "AOexrlHE6dGN"
      },
      "source": [
        "# 차량이 존재유무 파악"
      ]
    },
    {
      "cell_type": "code",
      "metadata": {
        "id": "AyONUjVk2mfI"
      },
      "source": [
        "def car_exist(car_table):\n",
        "  db = pymysql.connect(host = 'localhost', port = 3306, user = 'root', password = 'a12b34c56D78!', db = 'parking', charset = 'utf8')\n",
        "  cursor = db.cursor()\n",
        "  sql = \"\"\" select * from car_num where car_num = \"\"\" + car_table['car_num']\n",
        "  cursor.execute(sql)\n",
        "  result = cursor.fetchone()\n",
        "\n",
        "  return result"
      ],
      "execution_count": 6,
      "outputs": []
    },
    {
      "cell_type": "code",
      "metadata": {
        "id": "H6dC-F352lq_"
      },
      "source": [
        ""
      ],
      "execution_count": null,
      "outputs": []
    }
  ]
}